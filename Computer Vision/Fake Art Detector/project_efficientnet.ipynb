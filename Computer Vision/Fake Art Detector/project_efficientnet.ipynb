{
 "cells": [
  {
   "cell_type": "code",
   "execution_count": 1,
   "metadata": {},
   "outputs": [],
   "source": [
    "import tensorflow as tf\n",
    "import os\n",
    "from tensorflow.keras import layers, models, callbacks\n",
    "from tensorflow.keras.applications import EfficientNetB1\n",
    "from tensorflow.keras.preprocessing import image_dataset_from_directory\n",
    "import numpy as np\n",
    "import pandas as pd\n",
    "import os\n",
    "import random\n",
    "import shutil\n",
    "from pathlib import Path\n",
    "from sklearn.metrics import classification_report, confusion_matrix, ConfusionMatrixDisplay, accuracy_score\n",
    "import matplotlib.pyplot as plt\n",
    "import numpy as np"
   ]
  },
  {
   "cell_type": "code",
   "execution_count": 6,
   "metadata": {},
   "outputs": [],
   "source": [
    "original_dir = Path('/Users/nidhipareddy/Desktop/uchicago/Computer Vision/ai_art_classification/train')\n",
    "new_base = Path('/Users/nidhipareddy/Desktop/uchicago/Computer Vision/ai_art_classification/split_data')\n",
    "new_train = new_base / 'train'\n",
    "new_test = new_base / 'test'\n",
    "\n",
    "#make the test and train splits and save \n",
    "for d in [new_train, new_test]:\n",
    "    if d.exists():\n",
    "        shutil.rmtree(d)\n",
    "    d.mkdir(parents=True, exist_ok=True)\n",
    "\n",
    "split_ratio = 0.2\n",
    "for class_dir in original_dir.glob(\"*\"):\n",
    "    if not class_dir.is_dir():\n",
    "        continue\n",
    "    images = list(class_dir.glob(\"*.jpg\"))\n",
    "    random.shuffle(images)\n",
    "    split_idx = int(len(images) * (1 - split_ratio))\n",
    "    train_images = images[:split_idx]\n",
    "    test_images = images[split_idx:]\n",
    "\n",
    "    (new_train / class_dir.name).mkdir(parents=True, exist_ok=True)\n",
    "    (new_test / class_dir.name).mkdir(parents=True, exist_ok=True)\n",
    "\n",
    "    for img in train_images:\n",
    "        shutil.copy(img, new_train / class_dir.name / img.name)\n",
    "    for img in test_images:\n",
    "        shutil.copy(img, new_test / class_dir.name / img.name)\n"
   ]
  },
  {
   "cell_type": "code",
   "execution_count": 15,
   "metadata": {},
   "outputs": [],
   "source": [
    "train_dir = '/Users/nidhipareddy/Desktop/uchicago/Computer Vision/ai_art_classification/split_data/train'\n",
    "test_dir  = '/Users/nidhipareddy/Desktop/uchicago/Computer Vision/ai_art_classification/split_data/test'"
   ]
  },
  {
   "cell_type": "code",
   "execution_count": 16,
   "metadata": {},
   "outputs": [
    {
     "name": "stdout",
     "output_type": "stream",
     "text": [
      "Found 14894 files belonging to 2 classes.\n",
      "Using 11916 files for training.\n",
      "Found 14894 files belonging to 2 classes.\n",
      "Using 2978 files for validation.\n",
      "Found 3724 files belonging to 2 classes.\n"
     ]
    }
   ],
   "source": [
    "img_size = (224, 224)\n",
    "batch_size = 32\n",
    "seed = 42\n",
    "\n",
    "#training, test, and val splits\n",
    "train_ds = image_dataset_from_directory(\n",
    "    train_dir,\n",
    "    validation_split=0.2,\n",
    "    subset=\"training\",\n",
    "    seed=42,\n",
    "    image_size=(224, 224),\n",
    "    batch_size=32\n",
    ")\n",
    "\n",
    "val_ds = image_dataset_from_directory(\n",
    "    train_dir,\n",
    "    validation_split=0.2,\n",
    "    subset=\"validation\",\n",
    "    seed=42,\n",
    "    image_size=(224, 224),\n",
    "    batch_size=32\n",
    ")\n",
    "\n",
    "test_ds = image_dataset_from_directory(\n",
    "    test_dir,\n",
    "    image_size=(224, 224),\n",
    "    batch_size=32,\n",
    "    shuffle=False\n",
    ")\n",
    "\n",
    "AUTOTUNE = tf.data.AUTOTUNE\n",
    "train_ds = train_ds.prefetch(buffer_size=AUTOTUNE)\n",
    "val_ds = val_ds.prefetch(buffer_size=AUTOTUNE)\n",
    "\n",
    "# Data augmentation\n",
    "data_augmentation = tf.keras.Sequential([\n",
    "    layers.RandomFlip(\"horizontal\"),\n",
    "    layers.RandomRotation(0.1),\n",
    "    layers.RandomZoom(0.1),\n",
    "])"
   ]
  },
  {
   "cell_type": "code",
   "execution_count": 17,
   "metadata": {},
   "outputs": [
    {
     "name": "stdout",
     "output_type": "stream",
     "text": [
      "Epoch 1/30\n",
      "\u001b[1m373/373\u001b[0m \u001b[32m━━━━━━━━━━━━━━━━━━━━\u001b[0m\u001b[37m\u001b[0m \u001b[1m3423s\u001b[0m 9s/step - accuracy: 0.6679 - loss: 0.6351 - val_accuracy: 0.4674 - val_loss: 0.8536 - learning_rate: 0.0010\n",
      "Epoch 2/30\n",
      "\u001b[1m373/373\u001b[0m \u001b[32m━━━━━━━━━━━━━━━━━━━━\u001b[0m\u001b[37m\u001b[0m \u001b[1m1565s\u001b[0m 4s/step - accuracy: 0.7874 - loss: 0.4686 - val_accuracy: 0.8062 - val_loss: 0.4230 - learning_rate: 0.0010\n",
      "Epoch 3/30\n",
      "\u001b[1m373/373\u001b[0m \u001b[32m━━━━━━━━━━━━━━━━━━━━\u001b[0m\u001b[37m\u001b[0m \u001b[1m1196s\u001b[0m 3s/step - accuracy: 0.8152 - loss: 0.4236 - val_accuracy: 0.8435 - val_loss: 0.3534 - learning_rate: 0.0010\n",
      "Epoch 4/30\n",
      "\u001b[1m373/373\u001b[0m \u001b[32m━━━━━━━━━━━━━━━━━━━━\u001b[0m\u001b[37m\u001b[0m \u001b[1m1188s\u001b[0m 3s/step - accuracy: 0.8407 - loss: 0.3608 - val_accuracy: 0.8617 - val_loss: 0.3304 - learning_rate: 0.0010\n",
      "Epoch 5/30\n",
      "\u001b[1m373/373\u001b[0m \u001b[32m━━━━━━━━━━━━━━━━━━━━\u001b[0m\u001b[37m\u001b[0m \u001b[1m1067s\u001b[0m 3s/step - accuracy: 0.8650 - loss: 0.3216 - val_accuracy: 0.8670 - val_loss: 0.3140 - learning_rate: 0.0010\n",
      "Epoch 6/30\n",
      "\u001b[1m373/373\u001b[0m \u001b[32m━━━━━━━━━━━━━━━━━━━━\u001b[0m\u001b[37m\u001b[0m \u001b[1m1087s\u001b[0m 3s/step - accuracy: 0.8796 - loss: 0.3001 - val_accuracy: 0.8721 - val_loss: 0.3252 - learning_rate: 0.0010\n",
      "Epoch 7/30\n",
      "\u001b[1m373/373\u001b[0m \u001b[32m━━━━━━━━━━━━━━━━━━━━\u001b[0m\u001b[37m\u001b[0m \u001b[1m2703s\u001b[0m 7s/step - accuracy: 0.8869 - loss: 0.2727 - val_accuracy: 0.8929 - val_loss: 0.2687 - learning_rate: 0.0010\n",
      "Epoch 8/30\n",
      "\u001b[1m373/373\u001b[0m \u001b[32m━━━━━━━━━━━━━━━━━━━━\u001b[0m\u001b[37m\u001b[0m \u001b[1m2457s\u001b[0m 7s/step - accuracy: 0.8942 - loss: 0.2537 - val_accuracy: 0.8858 - val_loss: 0.2987 - learning_rate: 0.0010\n",
      "Epoch 9/30\n",
      "\u001b[1m373/373\u001b[0m \u001b[32m━━━━━━━━━━━━━━━━━━━━\u001b[0m\u001b[37m\u001b[0m \u001b[1m2466s\u001b[0m 7s/step - accuracy: 0.8966 - loss: 0.2580 - val_accuracy: 0.8348 - val_loss: 0.3462 - learning_rate: 0.0010\n",
      "Epoch 10/30\n",
      "\u001b[1m373/373\u001b[0m \u001b[32m━━━━━━━━━━━━━━━━━━━━\u001b[0m\u001b[37m\u001b[0m \u001b[1m2408s\u001b[0m 6s/step - accuracy: 0.9086 - loss: 0.2208 - val_accuracy: 0.8617 - val_loss: 0.3139 - learning_rate: 2.0000e-04\n",
      "Epoch 11/30\n",
      "\u001b[1m373/373\u001b[0m \u001b[32m━━━━━━━━━━━━━━━━━━━━\u001b[0m\u001b[37m\u001b[0m \u001b[1m2313s\u001b[0m 6s/step - accuracy: 0.9155 - loss: 0.2036 - val_accuracy: 0.8623 - val_loss: 0.3213 - learning_rate: 2.0000e-04\n",
      "Epoch 12/30\n",
      "\u001b[1m373/373\u001b[0m \u001b[32m━━━━━━━━━━━━━━━━━━━━\u001b[0m\u001b[37m\u001b[0m \u001b[1m2681s\u001b[0m 7s/step - accuracy: 0.9193 - loss: 0.2040 - val_accuracy: 0.8499 - val_loss: 0.3576 - learning_rate: 4.0000e-05\n"
     ]
    }
   ],
   "source": [
    "# Create the model\n",
    "base_model = EfficientNetB1(\n",
    "    include_top=False,\n",
    "    weights=None,  # No pretraining\n",
    "    input_shape=(224, 224, 3)\n",
    ")\n",
    "base_model.trainable = True  # Train all layers \n",
    "\n",
    "# Define the inputs \n",
    "inputs = layers.Input(shape=(224, 224, 3))\n",
    "x = data_augmentation(inputs)\n",
    "x = tf.keras.applications.efficientnet.preprocess_input(x)\n",
    "x = base_model(x, training=True) \n",
    "x = layers.GlobalAveragePooling2D()(x)\n",
    "x = layers.Dropout(0.5)(x)\n",
    "outputs = layers.Dense(1, activation='sigmoid')(x)\n",
    "\n",
    "model = models.Model(inputs, outputs)\n",
    "\n",
    "# Compile with a high learning rate \n",
    "model.compile(\n",
    "    optimizer=tf.keras.optimizers.Adam(learning_rate=1e-3), \n",
    "    loss='binary_crossentropy',\n",
    "    metrics=['accuracy']\n",
    ")\n",
    "\n",
    "# Callbacks\n",
    "early_stop = tf.keras.callbacks.EarlyStopping(\n",
    "    monitor='val_loss', patience=5, restore_best_weights=True\n",
    ")\n",
    "reduce_lr = tf.keras.callbacks.ReduceLROnPlateau(\n",
    "    monitor='val_loss', factor=0.2, patience=2, min_lr=1e-6\n",
    ")\n",
    "\n",
    "# Train the model\n",
    "history = model.fit(\n",
    "    train_ds,\n",
    "    validation_data=val_ds,\n",
    "    epochs=30, \n",
    "    callbacks=[early_stop, reduce_lr]\n",
    ")"
   ]
  },
  {
   "cell_type": "code",
   "execution_count": 21,
   "metadata": {},
   "outputs": [
    {
     "name": "stdout",
     "output_type": "stream",
     "text": [
      "Found 3724 files belonging to 2 classes.\n"
     ]
    },
    {
     "name": "stderr",
     "output_type": "stream",
     "text": [
      "2025-05-23 20:45:21.660100: I tensorflow/core/framework/local_rendezvous.cc:407] Local rendezvous is aborting with status: OUT_OF_RANGE: End of sequence\n"
     ]
    },
    {
     "name": "stdout",
     "output_type": "stream",
     "text": [
      "\u001b[1m117/117\u001b[0m \u001b[32m━━━━━━━━━━━━━━━━━━━━\u001b[0m\u001b[37m\u001b[0m \u001b[1m142s\u001b[0m 1s/step\n",
      "\n",
      "Accuracy: 89.42%\n",
      "\n",
      "Classification Report:\n",
      "\n",
      "                  precision    recall  f1-score   support\n",
      "\n",
      "    AI_GENERATED       0.88      0.93      0.91      2066\n",
      "NON_AI_GENERATED       0.91      0.85      0.88      1658\n",
      "\n",
      "        accuracy                           0.89      3724\n",
      "       macro avg       0.90      0.89      0.89      3724\n",
      "    weighted avg       0.89      0.89      0.89      3724\n",
      "\n",
      "Confusion Matrix:\n",
      "[[1926  140]\n",
      " [ 254 1404]]\n"
     ]
    },
    {
     "data": {
      "image/png": "[encoded data removed]",
      "text/plain": [
       "<Figure size 640x480 with 2 Axes>"
      ]
     },
     "metadata": {},
     "output_type": "display_data"
    }
   ],
   "source": [
    "# Load test data\n",
    "test_ds = tf.keras.preprocessing.image_dataset_from_directory(\n",
    "    test_dir,\n",
    "    image_size=img_size,\n",
    "    batch_size=batch_size,\n",
    "    shuffle=False  # no shuffling\n",
    ")\n",
    "\n",
    "# Extract labels and class names\n",
    "y_true = np.concatenate([y for x, y in test_ds], axis=0)\n",
    "class_names = test_ds.class_names\n",
    "\n",
    "# Predict on test data\n",
    "y_prob = model.predict(test_ds)\n",
    "y_pred = (y_prob > 0.5).astype(\"int\").flatten()\n",
    "\n",
    "# Print accuracy\n",
    "acc = accuracy_score(y_true, y_pred)\n",
    "print(f\"\\nAccuracy: {acc * 100:.2f}%\\n\")\n",
    "\n",
    "# Print classification report\n",
    "print(\"Classification Report:\\n\")\n",
    "print(classification_report(y_true, y_pred, target_names=class_names))\n",
    "\n",
    "# Print confusion matrix\n",
    "print(\"Confusion Matrix:\")\n",
    "print(confusion_matrix(y_true, y_pred))\n",
    "\n",
    "# Plot confusion matrix\n",
    "cm = confusion_matrix(y_true, y_pred)\n",
    "disp = ConfusionMatrixDisplay(confusion_matrix=cm, display_labels=class_names)\n",
    "disp.plot(cmap=plt.cm.Blues)\n",
    "plt.title(\"Confusion Matrix – Test Set\")\n",
    "plt.show()"
   ]
  },
  {
   "cell_type": "code",
   "execution_count": 20,
   "metadata": {},
   "outputs": [
    {
     "name": "stderr",
     "output_type": "stream",
     "text": [
      "WARNING:absl:You are saving your model as an HDF5 file via `model.save()` or `keras.saving.save_model(model)`. This file format is considered legacy. We recommend using instead the native Keras format, e.g. `model.save('my_model.keras')` or `keras.saving.save_model(model, 'my_model.keras')`. \n"
     ]
    }
   ],
   "source": [
    "model.save('ai_art_detector.h5')"
   ]
  }
 ],
 "metadata": {
  "kernelspec": {
   "display_name": "base",
   "language": "python",
   "name": "python3"
  },
  "language_info": {
   "codemirror_mode": {
    "name": "ipython",
    "version": 3
   },
   "file_extension": ".py",
   "mimetype": "text/x-python",
   "name": "python",
   "nbconvert_exporter": "python",
   "pygments_lexer": "ipython3",
   "version": "3.10.8"
  },
  "orig_nbformat": 4
 },
 "nbformat": 4,
 "nbformat_minor": 2
}
