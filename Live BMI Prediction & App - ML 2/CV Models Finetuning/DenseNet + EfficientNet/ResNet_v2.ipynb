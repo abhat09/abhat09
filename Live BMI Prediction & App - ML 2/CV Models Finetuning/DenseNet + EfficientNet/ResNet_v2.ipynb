{
 "cells": [
  {
   "cell_type": "code",
   "execution_count": null,
   "id": "8a0c0166-7c4e-432c-8ceb-e745e498110a",
   "metadata": {},
   "outputs": [
    {
     "name": "stderr",
     "output_type": "stream",
     "text": [
      "C:\\Users\\blue_\\AppData\\Roaming\\Python\\Python39\\site-packages\\networkx\\utils\\backends.py:135: RuntimeWarning: networkx backend defined more than once: nx-loopback\n",
      "  backends.update(_get_backends(\"networkx.backends\"))\n"
     ]
    }
   ],
   "source": [
    "import os\n",
    "import numpy as np\n",
    "import pandas as pd\n",
    "import torch\n",
    "import torch.nn as nn\n",
    "import torch.optim as optim\n",
    "from torch.utils.data import Dataset, DataLoader\n",
    "from torchvision import transforms, models\n",
    "import cv2\n",
    "import matplotlib.pyplot as plt\n",
    "import seaborn as sns\n",
    "from PIL import Image\n",
    "from tqdm.notebook import tqdm\n",
    "import ipywidgets as widgets\n",
    "from IPython.display import display, clear_output\n",
    "\n",
    "import dlib\n",
    "import face_recognition\n",
    "from facenet_pytorch import MTCNN\n",
    "from scipy.stats import pearsonr\n",
    "from sklearn.model_selection import train_test_split\n",
    "from sklearn.metrics import mean_absolute_error, r2_score\n",
    "\n",
    "import warnings\n",
    "warnings.filterwarnings('ignore')"
   ]
  },
  {
   "cell_type": "code",
   "execution_count": null,
   "id": "cc5579f3-1617-4262-a58d-39a8662bccf8",
   "metadata": {},
   "outputs": [
    {
     "name": "stdout",
     "output_type": "stream",
     "text": [
      "Using device: cuda\n",
      "GPU: NVIDIA GeForce RTX 3070 Laptop GPU\n",
      "Memory: 8.00 GB\n"
     ]
    }
   ],
   "source": [
    "device = torch.device('cuda' if torch.cuda.is_available() else 'cpu')\n",
    "print(f\"Using device: {device}\")\n",
    "if torch.cuda.is_available():\n",
    "    print(f\"GPU: {torch.cuda.get_device_name(0)}\")\n",
    "    print(f\"Memory: {torch.cuda.get_device_properties(0).total_memory / 1024**3:.2f} GB\")"
   ]
  },
  {
   "cell_type": "markdown",
   "id": "81b9d196-9a1a-4f55-9b4d-7d280b3e7739",
   "metadata": {},
   "source": [
    "Model Architecture Comparison for BMI Prediction:\n",
    "\n",
    "**ResNet-50** (Our Choice)\n",
    "   - Pros: Excellent feature extraction, proven performance on face tasks\n",
    "   - Cons: Moderate size (25.6M params)\n",
    "   - Memory: ~100MB"
   ]
  },
  {
   "cell_type": "code",
   "execution_count": 4,
   "id": "84aa236a-c427-48ed-b2e2-80570f79f524",
   "metadata": {},
   "outputs": [
    {
     "name": "stdout",
     "output_type": "stream",
     "text": [
      "Total samples: 4206\n",
      "Gender distribution:\n",
      "gender\n",
      "Male      2438\n",
      "Female    1768\n",
      "Name: count, dtype: int64\n",
      "BMI statistics:\n",
      "count    4206.000000\n",
      "mean       32.796210\n",
      "std         8.299130\n",
      "min        17.716216\n",
      "25%        26.541837\n",
      "50%        31.323409\n",
      "75%        37.577261\n",
      "max        85.987061\n",
      "Name: bmi, dtype: float64\n",
      "\n",
      "Missing images: 244\n",
      "Samples after removing missing images: 3962\n"
     ]
    }
   ],
   "source": [
    "# configuration\n",
    "DATA_PATH = r\"C:\\Users\\blue_\\Documents\\Python\\Data\"\n",
    "IMAGE_PATH = os.path.join(DATA_PATH, \"BMI\\Data\\Images\")\n",
    "CSV_PATH = os.path.join(DATA_PATH, \"BMI\\Data\\data.csv\")\n",
    "\n",
    "df = pd.read_csv(CSV_PATH)\n",
    "print(f\"Total samples: {len(df)}\")\n",
    "print(f\"Gender distribution:\\n{df['gender'].value_counts()}\")\n",
    "print(f\"BMI statistics:\\n{df['bmi'].describe()}\")\n",
    "\n",
    "# Check for missing images\n",
    "missing_images = []\n",
    "for idx, row in df.iterrows():\n",
    "    img_path = os.path.join(IMAGE_PATH, row['name'])\n",
    "    if not os.path.exists(img_path):\n",
    "        missing_images.append(row['name'])\n",
    "\n",
    "print(f\"\\nMissing images: {len(missing_images)}\")\n",
    "if missing_images:\n",
    "    df = df[~df['name'].isin(missing_images)]\n",
    "    print(f\"Samples after removing missing images: {len(df)}\")"
   ]
  },
  {
   "cell_type": "code",
   "execution_count": null,
   "id": "9d6d7b3c-bba9-4f33-8898-a4a39de471df",
   "metadata": {},
   "outputs": [],
   "source": [
    "# Face Detection and Alignment\n",
    "class FaceProcessor:\n",
    "    \"\"\"Handles face detection, alignment, and preprocessing\"\"\"\n",
    "    \n",
    "    def __init__(self, detector='mtcnn'):\n",
    "        if detector == 'mtcnn':\n",
    "            self.detector = MTCNN(keep_all=False, post_process=False, device=device)\n",
    "        else:\n",
    "            self.detector = dlib.get_frontal_face_detector()\n",
    "            self.predictor = dlib.shape_predictor('shape_predictor_68_face_landmarks.dat')\n",
    "    \n",
    "    def detect_and_align(self, image_path, target_size=(224, 224)):\n",
    "        \"\"\"Detect face and align based on eye positions\"\"\"\n",
    "        try:\n",
    "            # Load image\n",
    "            img = cv2.imread(image_path)\n",
    "            if img is None:\n",
    "                return None\n",
    "            \n",
    "            img_rgb = cv2.cvtColor(img, cv2.COLOR_BGR2RGB)\n",
    "            \n",
    "            # Detect face\n",
    "            faces, probs, landmarks = self.detector.detect(img_rgb, landmarks=True)\n",
    "            \n",
    "            if faces is None or len(faces) == 0:\n",
    "                # Fallback: return center crop\n",
    "                h, w = img.shape[:2]\n",
    "                size = min(h, w)\n",
    "                y = (h - size) // 2\n",
    "                x = (w - size) // 2\n",
    "                face = img[y:y+size, x:x+size]\n",
    "                return cv2.resize(face, target_size)\n",
    "            \n",
    "            # Get the first face\n",
    "            face_box = faces[0].astype(int)\n",
    "            face_landmarks = landmarks[0]\n",
    "            \n",
    "            # Calculate eye centers for alignment\n",
    "            left_eye = face_landmarks[0]\n",
    "            right_eye = face_landmarks[1]\n",
    "            \n",
    "            # Calculate angle for alignment\n",
    "            dy = right_eye[1] - left_eye[1]\n",
    "            dx = right_eye[0] - left_eye[0]\n",
    "            angle = np.degrees(np.arctan2(dy, dx))\n",
    "            \n",
    "            # Get face center\n",
    "            eye_center = ((left_eye[0] + right_eye[0]) // 2,\n",
    "                         (left_eye[1] + right_eye[1]) // 2)\n",
    "            \n",
    "            # Rotate image to align eyes horizontally\n",
    "            M = cv2.getRotationMatrix2D(eye_center, angle, 1.0)\n",
    "            aligned = cv2.warpAffine(img_rgb, M, (img.shape[1], img.shape[0]))\n",
    "            \n",
    "            # Extract face with padding\n",
    "            x1, y1, x2, y2 = face_box\n",
    "            w = x2 - x1\n",
    "            h = y2 - y1\n",
    "            \n",
    "            # Add 20% padding\n",
    "            padding = 0.2\n",
    "            x1 = max(0, int(x1 - w * padding))\n",
    "            y1 = max(0, int(y1 - h * padding))\n",
    "            x2 = min(aligned.shape[1], int(x2 + w * padding))\n",
    "            y2 = min(aligned.shape[0], int(y2 + h * padding))\n",
    "            \n",
    "            face = aligned[y1:y2, x1:x2]\n",
    "            \n",
    "            # Resize to target size\n",
    "            face = cv2.resize(face, target_size)\n",
    "            \n",
    "            return face\n",
    "            \n",
    "        except Exception as e:\n",
    "            print(f\"Error processing {image_path}: {e}\")\n",
    "            return None\n",
    "\n",
    "face_processor = FaceProcessor()"
   ]
  },
  {
   "cell_type": "code",
   "execution_count": 6,
   "id": "0befc07f-8fe4-411e-9a70-ef0b300c9624",
   "metadata": {},
   "outputs": [],
   "source": [
    "class BMIDataset(Dataset):\n",
    "    \"\"\"Custom dataset for BMI prediction with face alignment and augmentation\"\"\"\n",
    "    \n",
    "    def __init__(self, dataframe, image_dir, face_processor, transform=None, \n",
    "                 augment=False, cache_processed=True):\n",
    "        self.df = dataframe.reset_index(drop=True)\n",
    "        self.image_dir = image_dir\n",
    "        self.face_processor = face_processor\n",
    "        self.transform = transform\n",
    "        self.augment = augment\n",
    "        self.cache_processed = cache_processed\n",
    "        self.cache = {} if cache_processed else None\n",
    "        \n",
    "        # Gender encoding\n",
    "        self.gender_map = {'Male': 0, 'Female': 1}\n",
    "        \n",
    "        # Define augmentation pipeline\n",
    "        self.augmentation = transforms.Compose([\n",
    "            transforms.RandomRotation(15),\n",
    "            transforms.RandomHorizontalFlip(p=0.5),\n",
    "            transforms.ColorJitter(brightness=0.2, contrast=0.2, \n",
    "                                 saturation=0.2, hue=0.1),\n",
    "            transforms.RandomAffine(degrees=0, translate=(0.1, 0.1), \n",
    "                                  scale=(0.9, 1.1)),\n",
    "            transforms.RandomGrayscale(p=0.1),\n",
    "        ]) if augment else None\n",
    "        \n",
    "        # Normalization (ImageNet stats)\n",
    "        self.normalize = transforms.Normalize(\n",
    "            mean=[0.485, 0.456, 0.406],\n",
    "            std=[0.229, 0.224, 0.225]\n",
    "        )\n",
    "    \n",
    "    def __len__(self):\n",
    "        return len(self.df)\n",
    "    \n",
    "    def __getitem__(self, idx):\n",
    "        row = self.df.iloc[idx]\n",
    "        img_path = os.path.join(self.image_dir, row['name'])\n",
    "        \n",
    "        # Try to get from cache\n",
    "        if self.cache_processed and img_path in self.cache:\n",
    "            face = self.cache[img_path].copy()\n",
    "        else:\n",
    "            # Process face\n",
    "            face = self.face_processor.detect_and_align(img_path)\n",
    "            if face is None:\n",
    "                # Fallback: load and resize directly\n",
    "                img = cv2.imread(img_path)\n",
    "                face = cv2.resize(img, (224, 224))\n",
    "                face = cv2.cvtColor(face, cv2.COLOR_BGR2RGB)\n",
    "            \n",
    "            if self.cache_processed:\n",
    "                self.cache[img_path] = face.copy()\n",
    "        \n",
    "        # Convert to PIL Image\n",
    "        face = Image.fromarray(face.astype('uint8'))\n",
    "        \n",
    "        # Apply augmentation if training\n",
    "        if self.augment and self.augmentation:\n",
    "            face = self.augmentation(face)\n",
    "        \n",
    "        # Convert to tensor and normalize\n",
    "        face = transforms.ToTensor()(face)\n",
    "        face = self.normalize(face)\n",
    "        \n",
    "        # Get labels\n",
    "        bmi = torch.tensor(row['bmi'], dtype=torch.float32)\n",
    "        gender = torch.tensor(self.gender_map[row['gender']], dtype=torch.long)\n",
    "        \n",
    "        return face, bmi, gender"
   ]
  },
  {
   "cell_type": "code",
   "execution_count": null,
   "id": "388af122-dccb-4822-950e-0e311a283873",
   "metadata": {},
   "outputs": [],
   "source": [
    "# Multi-Task ResNet Model with Gender Branch\n",
    "class BMIGenderNet(nn.Module):\n",
    "    \"\"\"\n",
    "    Multi-task learning model for BMI regression and gender classification.\n",
    "    Uses shared ResNet backbone with task-specific heads.\n",
    "    \"\"\"\n",
    "    \n",
    "    def __init__(self, backbone='resnet50', pretrained=True, \n",
    "                 freeze_blocks=2, dropout_rate=0.5):\n",
    "        super(BMIGenderNet, self).__init__()\n",
    "        \n",
    "        # Load pretrained backbone\n",
    "        if backbone == 'resnet50':\n",
    "            self.backbone = models.resnet50(pretrained=pretrained)\n",
    "            feat_dim = 2048\n",
    "        elif backbone == 'resnet34':\n",
    "            self.backbone = models.resnet34(pretrained=pretrained)\n",
    "            feat_dim = 512\n",
    "        elif backbone == 'efficientnet_b0':\n",
    "            self.backbone = models.efficientnet_b0(pretrained=pretrained)\n",
    "            feat_dim = 1280\n",
    "        \n",
    "        # Freeze early layers\n",
    "        if backbone.startswith('resnet'):\n",
    "            # Freeze conv1, bn1, relu, maxpool, and early residual blocks\n",
    "            modules = [self.backbone.conv1, self.backbone.bn1, \n",
    "                      self.backbone.layer1, self.backbone.layer2]\n",
    "            if freeze_blocks >= 3:\n",
    "                modules.append(self.backbone.layer3)\n",
    "            \n",
    "            for module in modules:\n",
    "                for param in module.parameters():\n",
    "                    param.requires_grad = False\n",
    "        \n",
    "        # Remove the final classification layer\n",
    "        if backbone.startswith('resnet'):\n",
    "            self.backbone.fc = nn.Identity()\n",
    "        elif backbone == 'efficientnet_b0':\n",
    "            self.backbone.classifier = nn.Identity()\n",
    "        \n",
    "        # Shared feature processing\n",
    "        self.shared_fc = nn.Sequential(\n",
    "            nn.Linear(feat_dim, 512),\n",
    "            nn.ReLU(),\n",
    "            nn.Dropout(dropout_rate),\n",
    "            nn.Linear(512, 256),\n",
    "            nn.ReLU(),\n",
    "            nn.Dropout(dropout_rate)\n",
    "        )\n",
    "        \n",
    "        # BMI regression head\n",
    "        self.bmi_head = nn.Sequential(\n",
    "            nn.Linear(256, 128),\n",
    "            nn.ReLU(),\n",
    "            nn.Dropout(dropout_rate * 0.5),\n",
    "            nn.Linear(128, 64),\n",
    "            nn.ReLU(),\n",
    "            nn.Linear(64, 1)\n",
    "        )\n",
    "        \n",
    "        # Gender classification head\n",
    "        self.gender_head = nn.Sequential(\n",
    "            nn.Linear(256, 64),\n",
    "            nn.ReLU(),\n",
    "            nn.Dropout(dropout_rate * 0.5),\n",
    "            nn.Linear(64, 2)\n",
    "        )\n",
    "        \n",
    "    def forward(self, x):\n",
    "        # Extract features from backbone\n",
    "        features = self.backbone(x)\n",
    "        \n",
    "        # Shared processing\n",
    "        shared_features = self.shared_fc(features)\n",
    "        \n",
    "        # Task-specific outputs\n",
    "        bmi = self.bmi_head(shared_features)\n",
    "        gender = self.gender_head(shared_features)\n",
    "        \n",
    "        return bmi.squeeze(), gender"
   ]
  },
  {
   "cell_type": "code",
   "execution_count": 8,
   "id": "374e0487-1529-4d0b-ad40-0444e9450cdb",
   "metadata": {},
   "outputs": [],
   "source": [
    "# Training configuration\n",
    "class MultiTaskLoss(nn.Module):\n",
    "    \"\"\"Combined loss for BMI regression and gender classification\"\"\"\n",
    "    \n",
    "    def __init__(self, bmi_weight=1.0, gender_weight=0.3):\n",
    "        super(MultiTaskLoss, self).__init__()\n",
    "        self.bmi_weight = bmi_weight\n",
    "        self.gender_weight = gender_weight\n",
    "        self.bmi_loss = nn.MSELoss()\n",
    "        self.gender_loss = nn.CrossEntropyLoss()\n",
    "        \n",
    "    def forward(self, bmi_pred, gender_pred, bmi_true, gender_true):\n",
    "        # BMI loss (MSE)\n",
    "        loss_bmi = self.bmi_loss(bmi_pred, bmi_true)\n",
    "        \n",
    "        # Gender loss (Cross-entropy)\n",
    "        loss_gender = self.gender_loss(gender_pred, gender_true)\n",
    "        \n",
    "        # Combined loss\n",
    "        total_loss = self.bmi_weight * loss_bmi + self.gender_weight * loss_gender\n",
    "        \n",
    "        return total_loss, loss_bmi, loss_gender\n"
   ]
  },
  {
   "cell_type": "code",
   "execution_count": null,
   "id": "a0066de3-c4d9-4675-bc4b-71a4ca4b6e60",
   "metadata": {},
   "outputs": [],
   "source": [
    "def train_model(model, train_loader, val_loader, num_epochs=50, \n",
    "                learning_rate=1e-4, device='cuda'):\n",
    "    \"\"\"\n",
    "    Train the model with mixed precision training for faster computation\n",
    "    \"\"\"\n",
    "    model.to(device)\n",
    "    \n",
    "    # Multi-task loss\n",
    "    criterion = MultiTaskLoss(bmi_weight=1.0, gender_weight=0.3)\n",
    "    \n",
    "    # Optimizer with different learning rates for backbone and heads\n",
    "    backbone_params = []\n",
    "    head_params = []\n",
    "    \n",
    "    for name, param in model.named_parameters():\n",
    "        if 'backbone' in name and param.requires_grad:\n",
    "            backbone_params.append(param)\n",
    "        else:\n",
    "            head_params.append(param)\n",
    "    \n",
    "    optimizer = optim.AdamW([\n",
    "        {'params': backbone_params, 'lr': learning_rate * 0.1},\n",
    "        {'params': head_params, 'lr': learning_rate}\n",
    "    ], weight_decay=1e-4)\n",
    "    \n",
    "    # Learning rate scheduler\n",
    "    scheduler = optim.lr_scheduler.CosineAnnealingLR(optimizer, num_epochs)\n",
    "    \n",
    "    # Mixed precision training\n",
    "    scaler = torch.cuda.amp.GradScaler()\n",
    "    \n",
    "    # Training history\n",
    "    history = {\n",
    "        'train_loss': [], 'val_loss': [],\n",
    "        'train_bmi_loss': [], 'val_bmi_loss': [],\n",
    "        'train_gender_acc': [], 'val_gender_acc': []\n",
    "    }\n",
    "    \n",
    "    best_val_loss = float('inf')\n",
    "    \n",
    "    for epoch in range(num_epochs):\n",
    "        # Training phase\n",
    "        model.train()\n",
    "        train_loss = 0\n",
    "        train_bmi_loss = 0\n",
    "        train_gender_correct = 0\n",
    "        train_total = 0\n",
    "        \n",
    "        pbar = tqdm(train_loader, desc=f'Epoch {epoch+1}/{num_epochs}')\n",
    "        for batch_idx, (images, bmi_true, gender_true) in enumerate(pbar):\n",
    "            images = images.to(device)\n",
    "            bmi_true = bmi_true.to(device)\n",
    "            gender_true = gender_true.to(device)\n",
    "            \n",
    "            optimizer.zero_grad()\n",
    "            \n",
    "            # Mixed precision forward pass\n",
    "            with torch.cuda.amp.autocast():\n",
    "                bmi_pred, gender_pred = model(images)\n",
    "                loss, loss_bmi, loss_gender = criterion(\n",
    "                    bmi_pred, gender_pred, bmi_true, gender_true\n",
    "                )\n",
    "            \n",
    "            # Backward pass\n",
    "            scaler.scale(loss).backward()\n",
    "            scaler.step(optimizer)\n",
    "            scaler.update()\n",
    "            \n",
    "            # Statistics\n",
    "            train_loss += loss.item()\n",
    "            train_bmi_loss += loss_bmi.item()\n",
    "            \n",
    "            _, gender_predicted = torch.max(gender_pred.data, 1)\n",
    "            train_total += gender_true.size(0)\n",
    "            train_gender_correct += (gender_predicted == gender_true).sum().item()\n",
    "            \n",
    "            pbar.set_postfix({\n",
    "                'loss': f'{loss.item():.4f}',\n",
    "                'bmi_loss': f'{loss_bmi.item():.4f}'\n",
    "            })\n",
    "        \n",
    "        # Validation phase\n",
    "        model.eval()\n",
    "        val_loss = 0\n",
    "        val_bmi_loss = 0\n",
    "        val_gender_correct = 0\n",
    "        val_total = 0\n",
    "        \n",
    "        with torch.no_grad():\n",
    "            for images, bmi_true, gender_true in val_loader:\n",
    "                images = images.to(device)\n",
    "                bmi_true = bmi_true.to(device)\n",
    "                gender_true = gender_true.to(device)\n",
    "                \n",
    "                with torch.cuda.amp.autocast():\n",
    "                    bmi_pred, gender_pred = model(images)\n",
    "                    loss, loss_bmi, loss_gender = criterion(\n",
    "                        bmi_pred, gender_pred, bmi_true, gender_true\n",
    "                    )\n",
    "                \n",
    "                val_loss += loss.item()\n",
    "                val_bmi_loss += loss_bmi.item()\n",
    "                \n",
    "                _, gender_predicted = torch.max(gender_pred.data, 1)\n",
    "                val_total += gender_true.size(0)\n",
    "                val_gender_correct += (gender_predicted == gender_true).sum().item()\n",
    "        \n",
    "        # Calculate epoch statistics\n",
    "        avg_train_loss = train_loss / len(train_loader)\n",
    "        avg_val_loss = val_loss / len(val_loader)\n",
    "        avg_train_bmi_loss = train_bmi_loss / len(train_loader)\n",
    "        avg_val_bmi_loss = val_bmi_loss / len(val_loader)\n",
    "        train_gender_acc = 100 * train_gender_correct / train_total\n",
    "        val_gender_acc = 100 * val_gender_correct / val_total\n",
    "        \n",
    "        # Update history\n",
    "        history['train_loss'].append(avg_train_loss)\n",
    "        history['val_loss'].append(avg_val_loss)\n",
    "        history['train_bmi_loss'].append(avg_train_bmi_loss)\n",
    "        history['val_bmi_loss'].append(avg_val_bmi_loss)\n",
    "        history['train_gender_acc'].append(train_gender_acc)\n",
    "        history['val_gender_acc'].append(val_gender_acc)\n",
    "        \n",
    "        print(f'\\nEpoch {epoch+1}/{num_epochs}:')\n",
    "        print(f'Train Loss: {avg_train_loss:.4f}, Val Loss: {avg_val_loss:.4f}')\n",
    "        print(f'Train BMI Loss: {avg_train_bmi_loss:.4f}, Val BMI Loss: {avg_val_bmi_loss:.4f}')\n",
    "        print(f'Train Gender Acc: {train_gender_acc:.2f}%, Val Gender Acc: {val_gender_acc:.2f}%')\n",
    "        \n",
    "        # Save best model\n",
    "        if avg_val_loss < best_val_loss:\n",
    "            best_val_loss = avg_val_loss\n",
    "            torch.save(model.state_dict(), 'best_bmi_model_ResNet.pth')\n",
    "            print('Saved best model!')\n",
    "        \n",
    "        scheduler.step()\n",
    "    \n",
    "    return history"
   ]
  },
  {
   "cell_type": "code",
   "execution_count": null,
   "id": "c59ec6b6-3fed-4b18-a14d-1d952468c7af",
   "metadata": {},
   "outputs": [
    {
     "name": "stdout",
     "output_type": "stream",
     "text": [
      "Training samples: 3169 (Male: 1883, Female: 1286)\n",
      "Test samples: 793 (Male: 471, Female: 322)\n"
     ]
    }
   ],
   "source": [
    "male_df = df[df['gender'] == 'Male']\n",
    "female_df = df[df['gender'] == 'Female']\n",
    "\n",
    "male_train, male_test = train_test_split(\n",
    "    male_df, test_size=0.2, random_state=42\n",
    ")\n",
    "female_train, female_test = train_test_split(\n",
    "    female_df, test_size=0.2, random_state=42\n",
    ")\n",
    "\n",
    "# Combine\n",
    "train_df = pd.concat([male_train, female_train]).reset_index(drop=True)\n",
    "test_df = pd.concat([male_test, female_test]).reset_index(drop=True)\n",
    "\n",
    "print(f\"Training samples: {len(train_df)} (Male: {len(male_train)}, Female: {len(female_train)})\")\n",
    "print(f\"Test samples: {len(test_df)} (Male: {len(male_test)}, Female: {len(female_test)})\")\n",
    "\n",
    "# Create datasets\n",
    "train_dataset = BMIDataset(train_df, IMAGE_PATH, face_processor, augment=True)\n",
    "test_dataset = BMIDataset(test_df, IMAGE_PATH, face_processor, augment=False)\n",
    "\n",
    "# Create data loaders\n",
    "batch_size = 32  \n",
    "train_loader = DataLoader(train_dataset, batch_size=batch_size, \n",
    "                         shuffle=True, num_workers=0, pin_memory=True)\n",
    "test_loader = DataLoader(test_dataset, batch_size=batch_size, \n",
    "                        shuffle=False, num_workers=0, pin_memory=True)"
   ]
  },
  {
   "cell_type": "code",
   "execution_count": null,
   "id": "b0d084ef-424b-4f7f-a21f-8739ab0c9c7b",
   "metadata": {
    "scrolled": true
   },
   "outputs": [
    {
     "name": "stdout",
     "output_type": "stream",
     "text": [
      "Starting training...\n"
     ]
    },
    {
     "data": {
      "application/vnd.jupyter.widget-view+json": {
       "model_id": "2b3d565b329f4b8e9381c63f77ad4955",
       "version_major": 2,
       "version_minor": 0
      },
      "text/plain": [
       "Epoch 1/30:   0%|          | 0/100 [00:00<?, ?it/s]"
      ]
     },
     "metadata": {},
     "output_type": "display_data"
    },
    {
     "name": "stdout",
     "output_type": "stream",
     "text": [
      "\n",
      "Epoch 1/30:\n",
      "Train Loss: 622.8011, Val Loss: 94.1908\n",
      "Train BMI Loss: 622.5278, Val BMI Loss: 93.9801\n",
      "Train Gender Acc: 51.06%, Val Gender Acc: 59.39%\n",
      "Saved best model!\n"
     ]
    },
    {
     "data": {
      "application/vnd.jupyter.widget-view+json": {
       "model_id": "244bbe184a884e3ab5ae26a918cf5f37",
       "version_major": 2,
       "version_minor": 0
      },
      "text/plain": [
       "Epoch 2/30:   0%|          | 0/100 [00:00<?, ?it/s]"
      ]
     },
     "metadata": {},
     "output_type": "display_data"
    },
    {
     "name": "stdout",
     "output_type": "stream",
     "text": [
      "\n",
      "Epoch 2/30:\n",
      "Train Loss: 79.5435, Val Loss: 52.6469\n",
      "Train BMI Loss: 79.2618, Val BMI Loss: 52.4397\n",
      "Train Gender Acc: 53.80%, Val Gender Acc: 59.39%\n",
      "Saved best model!\n"
     ]
    },
    {
     "data": {
      "application/vnd.jupyter.widget-view+json": {
       "model_id": "b3c2a1f37e724a5a9b1fe4970d63acaa",
       "version_major": 2,
       "version_minor": 0
      },
      "text/plain": [
       "Epoch 3/30:   0%|          | 0/100 [00:00<?, ?it/s]"
      ]
     },
     "metadata": {},
     "output_type": "display_data"
    },
    {
     "name": "stdout",
     "output_type": "stream",
     "text": [
      "\n",
      "Epoch 3/30:\n",
      "Train Loss: 71.4008, Val Loss: 54.6434\n",
      "Train BMI Loss: 71.1694, Val BMI Loss: 54.4404\n",
      "Train Gender Acc: 55.79%, Val Gender Acc: 59.39%\n"
     ]
    },
    {
     "data": {
      "application/vnd.jupyter.widget-view+json": {
       "model_id": "77e28339ccce43dda7cc971b3e2a73ea",
       "version_major": 2,
       "version_minor": 0
      },
      "text/plain": [
       "Epoch 4/30:   0%|          | 0/100 [00:00<?, ?it/s]"
      ]
     },
     "metadata": {},
     "output_type": "display_data"
    },
    {
     "name": "stdout",
     "output_type": "stream",
     "text": [
      "\n",
      "Epoch 4/30:\n",
      "Train Loss: 68.4264, Val Loss: 58.0730\n",
      "Train BMI Loss: 68.2030, Val BMI Loss: 57.8699\n",
      "Train Gender Acc: 54.65%, Val Gender Acc: 59.39%\n"
     ]
    },
    {
     "data": {
      "application/vnd.jupyter.widget-view+json": {
       "model_id": "4bcc0319f32f4c858a02d38ae7d884c4",
       "version_major": 2,
       "version_minor": 0
      },
      "text/plain": [
       "Epoch 5/30:   0%|          | 0/100 [00:00<?, ?it/s]"
      ]
     },
     "metadata": {},
     "output_type": "display_data"
    },
    {
     "name": "stdout",
     "output_type": "stream",
     "text": [
      "\n",
      "Epoch 5/30:\n",
      "Train Loss: 60.4744, Val Loss: 51.7692\n",
      "Train BMI Loss: 60.2595, Val BMI Loss: 51.5655\n",
      "Train Gender Acc: 53.83%, Val Gender Acc: 59.39%\n",
      "Saved best model!\n"
     ]
    },
    {
     "data": {
      "application/vnd.jupyter.widget-view+json": {
       "model_id": "e87c28e535f04234b378b361e52795ca",
       "version_major": 2,
       "version_minor": 0
      },
      "text/plain": [
       "Epoch 6/30:   0%|          | 0/100 [00:00<?, ?it/s]"
      ]
     },
     "metadata": {},
     "output_type": "display_data"
    },
    {
     "name": "stdout",
     "output_type": "stream",
     "text": [
      "\n",
      "Epoch 6/30:\n",
      "Train Loss: 57.9085, Val Loss: 58.0609\n",
      "Train BMI Loss: 57.6976, Val BMI Loss: 57.8547\n",
      "Train Gender Acc: 56.11%, Val Gender Acc: 58.64%\n"
     ]
    },
    {
     "data": {
      "application/vnd.jupyter.widget-view+json": {
       "model_id": "9ea24c007e1445fb972e3c1b377cf10f",
       "version_major": 2,
       "version_minor": 0
      },
      "text/plain": [
       "Epoch 7/30:   0%|          | 0/100 [00:00<?, ?it/s]"
      ]
     },
     "metadata": {},
     "output_type": "display_data"
    },
    {
     "name": "stdout",
     "output_type": "stream",
     "text": [
      "\n",
      "Epoch 7/30:\n",
      "Train Loss: 56.1804, Val Loss: 51.3808\n",
      "Train BMI Loss: 55.9697, Val BMI Loss: 51.1746\n",
      "Train Gender Acc: 54.59%, Val Gender Acc: 59.02%\n",
      "Saved best model!\n"
     ]
    },
    {
     "data": {
      "application/vnd.jupyter.widget-view+json": {
       "model_id": "c6f880fc3c2245d494a0563deba6f1ed",
       "version_major": 2,
       "version_minor": 0
      },
      "text/plain": [
       "Epoch 8/30:   0%|          | 0/100 [00:00<?, ?it/s]"
      ]
     },
     "metadata": {},
     "output_type": "display_data"
    },
    {
     "name": "stdout",
     "output_type": "stream",
     "text": [
      "\n",
      "Epoch 8/30:\n",
      "Train Loss: 56.2219, Val Loss: 46.0213\n",
      "Train BMI Loss: 56.0130, Val BMI Loss: 45.8149\n",
      "Train Gender Acc: 56.17%, Val Gender Acc: 58.01%\n",
      "Saved best model!\n"
     ]
    },
    {
     "data": {
      "application/vnd.jupyter.widget-view+json": {
       "model_id": "457eaffd0a9a4d24910c151303cf9dfa",
       "version_major": 2,
       "version_minor": 0
      },
      "text/plain": [
       "Epoch 9/30:   0%|          | 0/100 [00:00<?, ?it/s]"
      ]
     },
     "metadata": {},
     "output_type": "display_data"
    },
    {
     "name": "stdout",
     "output_type": "stream",
     "text": [
      "\n",
      "Epoch 9/30:\n",
      "Train Loss: 55.1875, Val Loss: 48.1528\n",
      "Train BMI Loss: 54.9802, Val BMI Loss: 47.9476\n",
      "Train Gender Acc: 56.96%, Val Gender Acc: 59.39%\n"
     ]
    },
    {
     "data": {
      "application/vnd.jupyter.widget-view+json": {
       "model_id": "22e2ef491d84424bab7a4153d9edd5c2",
       "version_major": 2,
       "version_minor": 0
      },
      "text/plain": [
       "Epoch 10/30:   0%|          | 0/100 [00:00<?, ?it/s]"
      ]
     },
     "metadata": {},
     "output_type": "display_data"
    },
    {
     "name": "stdout",
     "output_type": "stream",
     "text": [
      "\n",
      "Epoch 10/30:\n",
      "Train Loss: 52.4035, Val Loss: 50.1556\n",
      "Train BMI Loss: 52.1982, Val BMI Loss: 49.9512\n",
      "Train Gender Acc: 57.18%, Val Gender Acc: 59.39%\n"
     ]
    },
    {
     "data": {
      "application/vnd.jupyter.widget-view+json": {
       "model_id": "af6a275883014b358e55fe0f8a8b4443",
       "version_major": 2,
       "version_minor": 0
      },
      "text/plain": [
       "Epoch 11/30:   0%|          | 0/100 [00:00<?, ?it/s]"
      ]
     },
     "metadata": {},
     "output_type": "display_data"
    },
    {
     "name": "stdout",
     "output_type": "stream",
     "text": [
      "\n",
      "Epoch 11/30:\n",
      "Train Loss: 49.6740, Val Loss: 52.6011\n",
      "Train BMI Loss: 49.4660, Val BMI Loss: 52.3963\n",
      "Train Gender Acc: 57.02%, Val Gender Acc: 59.39%\n"
     ]
    },
    {
     "data": {
      "application/vnd.jupyter.widget-view+json": {
       "model_id": "88646396631c404b874606232416ffb8",
       "version_major": 2,
       "version_minor": 0
      },
      "text/plain": [
       "Epoch 12/30:   0%|          | 0/100 [00:00<?, ?it/s]"
      ]
     },
     "metadata": {},
     "output_type": "display_data"
    },
    {
     "name": "stdout",
     "output_type": "stream",
     "text": [
      "\n",
      "Epoch 12/30:\n",
      "Train Loss: 52.0980, Val Loss: 49.9041\n",
      "Train BMI Loss: 51.8923, Val BMI Loss: 49.7002\n",
      "Train Gender Acc: 57.75%, Val Gender Acc: 59.39%\n"
     ]
    },
    {
     "data": {
      "application/vnd.jupyter.widget-view+json": {
       "model_id": "3eae9e89d4e940f1bb08b11f16dfb192",
       "version_major": 2,
       "version_minor": 0
      },
      "text/plain": [
       "Epoch 13/30:   0%|          | 0/100 [00:00<?, ?it/s]"
      ]
     },
     "metadata": {},
     "output_type": "display_data"
    },
    {
     "name": "stdout",
     "output_type": "stream",
     "text": [
      "\n",
      "Epoch 13/30:\n",
      "Train Loss: 49.5270, Val Loss: 52.9595\n",
      "Train BMI Loss: 49.3233, Val BMI Loss: 52.7558\n",
      "Train Gender Acc: 58.91%, Val Gender Acc: 59.39%\n"
     ]
    },
    {
     "data": {
      "application/vnd.jupyter.widget-view+json": {
       "model_id": "914b833991604e7288458cc7b4907d8c",
       "version_major": 2,
       "version_minor": 0
      },
      "text/plain": [
       "Epoch 14/30:   0%|          | 0/100 [00:00<?, ?it/s]"
      ]
     },
     "metadata": {},
     "output_type": "display_data"
    },
    {
     "name": "stdout",
     "output_type": "stream",
     "text": [
      "\n",
      "Epoch 14/30:\n",
      "Train Loss: 46.0359, Val Loss: 52.1362\n",
      "Train BMI Loss: 45.8312, Val BMI Loss: 51.9318\n",
      "Train Gender Acc: 57.46%, Val Gender Acc: 59.39%\n"
     ]
    },
    {
     "data": {
      "application/vnd.jupyter.widget-view+json": {
       "model_id": "3781229d945645eb8ca2484bb7fbb146",
       "version_major": 2,
       "version_minor": 0
      },
      "text/plain": [
       "Epoch 15/30:   0%|          | 0/100 [00:00<?, ?it/s]"
      ]
     },
     "metadata": {},
     "output_type": "display_data"
    },
    {
     "name": "stdout",
     "output_type": "stream",
     "text": [
      "\n",
      "Epoch 15/30:\n",
      "Train Loss: 44.9828, Val Loss: 55.0481\n",
      "Train BMI Loss: 44.7765, Val BMI Loss: 54.8441\n",
      "Train Gender Acc: 57.65%, Val Gender Acc: 59.39%\n"
     ]
    },
    {
     "data": {
      "application/vnd.jupyter.widget-view+json": {
       "model_id": "87d4ae03e77f4c60b6c1d949f3834b6f",
       "version_major": 2,
       "version_minor": 0
      },
      "text/plain": [
       "Epoch 16/30:   0%|          | 0/100 [00:00<?, ?it/s]"
      ]
     },
     "metadata": {},
     "output_type": "display_data"
    },
    {
     "name": "stdout",
     "output_type": "stream",
     "text": [
      "\n",
      "Epoch 16/30:\n",
      "Train Loss: 45.8307, Val Loss: 55.9892\n",
      "Train BMI Loss: 45.6260, Val BMI Loss: 55.7859\n",
      "Train Gender Acc: 58.19%, Val Gender Acc: 59.39%\n"
     ]
    },
    {
     "data": {
      "application/vnd.jupyter.widget-view+json": {
       "model_id": "0808aa60f60c4465a849413011a72e42",
       "version_major": 2,
       "version_minor": 0
      },
      "text/plain": [
       "Epoch 17/30:   0%|          | 0/100 [00:00<?, ?it/s]"
      ]
     },
     "metadata": {},
     "output_type": "display_data"
    },
    {
     "name": "stdout",
     "output_type": "stream",
     "text": [
      "\n",
      "Epoch 17/30:\n",
      "Train Loss: 42.3930, Val Loss: 52.0222\n",
      "Train BMI Loss: 42.1873, Val BMI Loss: 51.8183\n",
      "Train Gender Acc: 58.22%, Val Gender Acc: 59.39%\n"
     ]
    },
    {
     "data": {
      "application/vnd.jupyter.widget-view+json": {
       "model_id": "aa90273eb68c48659ab58382653d5cbb",
       "version_major": 2,
       "version_minor": 0
      },
      "text/plain": [
       "Epoch 18/30:   0%|          | 0/100 [00:00<?, ?it/s]"
      ]
     },
     "metadata": {},
     "output_type": "display_data"
    },
    {
     "name": "stdout",
     "output_type": "stream",
     "text": [
      "\n",
      "Epoch 18/30:\n",
      "Train Loss: 42.8807, Val Loss: 49.3024\n",
      "Train BMI Loss: 42.6763, Val BMI Loss: 49.0987\n",
      "Train Gender Acc: 57.56%, Val Gender Acc: 59.39%\n"
     ]
    },
    {
     "data": {
      "application/vnd.jupyter.widget-view+json": {
       "model_id": "380163b8ca4746948055afef6c024a8d",
       "version_major": 2,
       "version_minor": 0
      },
      "text/plain": [
       "Epoch 19/30:   0%|          | 0/100 [00:00<?, ?it/s]"
      ]
     },
     "metadata": {},
     "output_type": "display_data"
    },
    {
     "name": "stdout",
     "output_type": "stream",
     "text": [
      "\n",
      "Epoch 19/30:\n",
      "Train Loss: 43.2203, Val Loss: 50.6649\n",
      "Train BMI Loss: 43.0168, Val BMI Loss: 50.4615\n",
      "Train Gender Acc: 58.25%, Val Gender Acc: 59.39%\n"
     ]
    },
    {
     "data": {
      "application/vnd.jupyter.widget-view+json": {
       "model_id": "861a200a5b464210b757d4fb6a73560f",
       "version_major": 2,
       "version_minor": 0
      },
      "text/plain": [
       "Epoch 20/30:   0%|          | 0/100 [00:00<?, ?it/s]"
      ]
     },
     "metadata": {},
     "output_type": "display_data"
    },
    {
     "name": "stdout",
     "output_type": "stream",
     "text": [
      "\n",
      "Epoch 20/30:\n",
      "Train Loss: 40.5067, Val Loss: 54.7147\n",
      "Train BMI Loss: 40.3015, Val BMI Loss: 54.5109\n",
      "Train Gender Acc: 58.79%, Val Gender Acc: 59.39%\n"
     ]
    },
    {
     "data": {
      "application/vnd.jupyter.widget-view+json": {
       "model_id": "5a11ecba2c0a4eb9bd27e2f1073a7892",
       "version_major": 2,
       "version_minor": 0
      },
      "text/plain": [
       "Epoch 21/30:   0%|          | 0/100 [00:00<?, ?it/s]"
      ]
     },
     "metadata": {},
     "output_type": "display_data"
    },
    {
     "name": "stdout",
     "output_type": "stream",
     "text": [
      "\n",
      "Epoch 21/30:\n",
      "Train Loss: 40.5569, Val Loss: 53.5801\n",
      "Train BMI Loss: 40.3523, Val BMI Loss: 53.3762\n",
      "Train Gender Acc: 58.13%, Val Gender Acc: 59.39%\n"
     ]
    },
    {
     "data": {
      "application/vnd.jupyter.widget-view+json": {
       "model_id": "112a6a922e404fe9ac0560c7ecbb53c7",
       "version_major": 2,
       "version_minor": 0
      },
      "text/plain": [
       "Epoch 22/30:   0%|          | 0/100 [00:00<?, ?it/s]"
      ]
     },
     "metadata": {},
     "output_type": "display_data"
    },
    {
     "name": "stdout",
     "output_type": "stream",
     "text": [
      "\n",
      "Epoch 22/30:\n",
      "Train Loss: 41.2422, Val Loss: 49.5825\n",
      "Train BMI Loss: 41.0381, Val BMI Loss: 49.3786\n",
      "Train Gender Acc: 58.13%, Val Gender Acc: 59.39%\n"
     ]
    },
    {
     "data": {
      "application/vnd.jupyter.widget-view+json": {
       "model_id": "b3c39d0473d545798b795d7a1148610a",
       "version_major": 2,
       "version_minor": 0
      },
      "text/plain": [
       "Epoch 23/30:   0%|          | 0/100 [00:00<?, ?it/s]"
      ]
     },
     "metadata": {},
     "output_type": "display_data"
    },
    {
     "name": "stdout",
     "output_type": "stream",
     "text": [
      "\n",
      "Epoch 23/30:\n",
      "Train Loss: 40.1122, Val Loss: 47.0729\n",
      "Train BMI Loss: 39.9076, Val BMI Loss: 46.8693\n",
      "Train Gender Acc: 58.38%, Val Gender Acc: 59.39%\n"
     ]
    },
    {
     "data": {
      "application/vnd.jupyter.widget-view+json": {
       "model_id": "5cfc5ea3f8e3426eb1bf2eb7b1292206",
       "version_major": 2,
       "version_minor": 0
      },
      "text/plain": [
       "Epoch 24/30:   0%|          | 0/100 [00:00<?, ?it/s]"
      ]
     },
     "metadata": {},
     "output_type": "display_data"
    },
    {
     "name": "stdout",
     "output_type": "stream",
     "text": [
      "\n",
      "Epoch 24/30:\n",
      "Train Loss: 40.6932, Val Loss: 56.5623\n",
      "Train BMI Loss: 40.4876, Val BMI Loss: 56.3586\n",
      "Train Gender Acc: 58.50%, Val Gender Acc: 59.39%\n"
     ]
    },
    {
     "data": {
      "application/vnd.jupyter.widget-view+json": {
       "model_id": "240b228b923b4b4aa33efc813947a42e",
       "version_major": 2,
       "version_minor": 0
      },
      "text/plain": [
       "Epoch 25/30:   0%|          | 0/100 [00:00<?, ?it/s]"
      ]
     },
     "metadata": {},
     "output_type": "display_data"
    },
    {
     "name": "stdout",
     "output_type": "stream",
     "text": [
      "\n",
      "Epoch 25/30:\n",
      "Train Loss: 39.4814, Val Loss: 53.3344\n",
      "Train BMI Loss: 39.2773, Val BMI Loss: 53.1309\n",
      "Train Gender Acc: 58.82%, Val Gender Acc: 59.39%\n"
     ]
    },
    {
     "data": {
      "application/vnd.jupyter.widget-view+json": {
       "model_id": "2cc56e6669ad44ca950ae06b1b7ca944",
       "version_major": 2,
       "version_minor": 0
      },
      "text/plain": [
       "Epoch 26/30:   0%|          | 0/100 [00:00<?, ?it/s]"
      ]
     },
     "metadata": {},
     "output_type": "display_data"
    },
    {
     "name": "stdout",
     "output_type": "stream",
     "text": [
      "\n",
      "Epoch 26/30:\n",
      "Train Loss: 37.3701, Val Loss: 50.7979\n",
      "Train BMI Loss: 37.1653, Val BMI Loss: 50.5944\n",
      "Train Gender Acc: 58.19%, Val Gender Acc: 59.39%\n"
     ]
    },
    {
     "data": {
      "application/vnd.jupyter.widget-view+json": {
       "model_id": "3ad659c3f581493cbde6637c833e9651",
       "version_major": 2,
       "version_minor": 0
      },
      "text/plain": [
       "Epoch 27/30:   0%|          | 0/100 [00:00<?, ?it/s]"
      ]
     },
     "metadata": {},
     "output_type": "display_data"
    },
    {
     "name": "stdout",
     "output_type": "stream",
     "text": [
      "\n",
      "Epoch 27/30:\n",
      "Train Loss: 38.5834, Val Loss: 51.4217\n",
      "Train BMI Loss: 38.3797, Val BMI Loss: 51.2181\n",
      "Train Gender Acc: 59.04%, Val Gender Acc: 59.39%\n"
     ]
    },
    {
     "data": {
      "application/vnd.jupyter.widget-view+json": {
       "model_id": "a2a75e0bddca4b5392838232707aaa71",
       "version_major": 2,
       "version_minor": 0
      },
      "text/plain": [
       "Epoch 28/30:   0%|          | 0/100 [00:00<?, ?it/s]"
      ]
     },
     "metadata": {},
     "output_type": "display_data"
    },
    {
     "name": "stdout",
     "output_type": "stream",
     "text": [
      "\n",
      "Epoch 28/30:\n",
      "Train Loss: 38.9315, Val Loss: 54.8716\n",
      "Train BMI Loss: 38.7271, Val BMI Loss: 54.6681\n",
      "Train Gender Acc: 58.76%, Val Gender Acc: 59.39%\n"
     ]
    },
    {
     "data": {
      "application/vnd.jupyter.widget-view+json": {
       "model_id": "51d3d187b8334afcb882b06348ec5224",
       "version_major": 2,
       "version_minor": 0
      },
      "text/plain": [
       "Epoch 29/30:   0%|          | 0/100 [00:00<?, ?it/s]"
      ]
     },
     "metadata": {},
     "output_type": "display_data"
    },
    {
     "name": "stdout",
     "output_type": "stream",
     "text": [
      "\n",
      "Epoch 29/30:\n",
      "Train Loss: 39.9336, Val Loss: 49.5851\n",
      "Train BMI Loss: 39.7292, Val BMI Loss: 49.3817\n",
      "Train Gender Acc: 58.35%, Val Gender Acc: 59.39%\n"
     ]
    },
    {
     "data": {
      "application/vnd.jupyter.widget-view+json": {
       "model_id": "a05b87c4d1794f109d67971dedf14318",
       "version_major": 2,
       "version_minor": 0
      },
      "text/plain": [
       "Epoch 30/30:   0%|          | 0/100 [00:00<?, ?it/s]"
      ]
     },
     "metadata": {},
     "output_type": "display_data"
    },
    {
     "name": "stdout",
     "output_type": "stream",
     "text": [
      "\n",
      "Epoch 30/30:\n",
      "Train Loss: 40.6236, Val Loss: 46.6897\n",
      "Train BMI Loss: 40.4201, Val BMI Loss: 46.4861\n",
      "Train Gender Acc: 58.50%, Val Gender Acc: 59.39%\n"
     ]
    }
   ],
   "source": [
    "# Starting training\n",
    "model = BMIGenderNet(backbone='resnet50', pretrained=True, \n",
    "                     freeze_blocks=2, dropout_rate=0.5)\n",
    "\n",
    "print(\"Starting training...\")\n",
    "history = train_model(model, train_loader, test_loader, \n",
    "                     num_epochs=30, learning_rate=1e-4, device=device)"
   ]
  },
  {
   "cell_type": "code",
   "execution_count": null,
   "id": "c42ab9dd-bace-4053-8b6e-e4a1295bf246",
   "metadata": {},
   "outputs": [
    {
     "data": {
      "application/vnd.jupyter.widget-view+json": {
       "model_id": "358758df3602426188eadac949456c2f",
       "version_major": 2,
       "version_minor": 0
      },
      "text/plain": [
       "Evaluating:   0%|          | 0/25 [00:00<?, ?it/s]"
      ]
     },
     "metadata": {},
     "output_type": "display_data"
    },
    {
     "name": "stdout",
     "output_type": "stream",
     "text": [
      "\n",
      "=== Evaluation Results ===\n",
      "\n",
      "Overall Performance:\n",
      "  Pearson r: 0.6061\n",
      "  MAE: 4.96\n",
      "  R²: 0.3284\n",
      "\n",
      "Male-specific Performance:\n",
      "  Pearson r: 0.6645\n",
      "  MAE: 4.46\n",
      "\n",
      "Female-specific Performance:\n",
      "  Pearson r: 0.5322\n",
      "  MAE: 5.69\n",
      "\n",
      "Gender Classification Accuracy: 58.01%\n"
     ]
    },
    {
     "data": {
      "image/png": "[encoded data removed]",
      "text/plain": [
       "<Figure size 1500x500 with 3 Axes>"
      ]
     },
     "metadata": {},
     "output_type": "display_data"
    }
   ],
   "source": [
    "def evaluate_model(model, test_loader, device='cuda'):\n",
    "    \"\"\"Comprehensive evaluation with gender-specific metrics\"\"\"\n",
    "    model.eval()\n",
    "    model.to(device)\n",
    "    \n",
    "    all_bmi_true = []\n",
    "    all_bmi_pred = []\n",
    "    all_gender_true = []\n",
    "    all_gender_pred = []\n",
    "    \n",
    "    with torch.no_grad():\n",
    "        for images, bmi_true, gender_true in tqdm(test_loader, desc='Evaluating'):\n",
    "            images = images.to(device)\n",
    "            \n",
    "            with torch.cuda.amp.autocast():\n",
    "                bmi_pred, gender_pred = model(images)\n",
    "            \n",
    "            all_bmi_true.extend(bmi_true.cpu().numpy())\n",
    "            all_bmi_pred.extend(bmi_pred.cpu().numpy())\n",
    "            all_gender_true.extend(gender_true.cpu().numpy())\n",
    "            all_gender_pred.extend(torch.argmax(gender_pred, dim=1).cpu().numpy())\n",
    "    \n",
    "    # Convert to numpy arrays\n",
    "    all_bmi_true = np.array(all_bmi_true)\n",
    "    all_bmi_pred = np.array(all_bmi_pred)\n",
    "    all_gender_true = np.array(all_gender_true)\n",
    "    all_gender_pred = np.array(all_gender_pred)\n",
    "    \n",
    "    # Overall metrics\n",
    "    overall_r, _ = pearsonr(all_bmi_true, all_bmi_pred)\n",
    "    overall_mae = mean_absolute_error(all_bmi_true, all_bmi_pred)\n",
    "    overall_r2 = r2_score(all_bmi_true, all_bmi_pred)\n",
    "    \n",
    "    # Gender-specific metrics\n",
    "    male_mask = all_gender_true == 0\n",
    "    female_mask = all_gender_true == 1\n",
    "    \n",
    "    male_r, _ = pearsonr(all_bmi_true[male_mask], all_bmi_pred[male_mask])\n",
    "    female_r, _ = pearsonr(all_bmi_true[female_mask], all_bmi_pred[female_mask])\n",
    "    \n",
    "    male_mae = mean_absolute_error(all_bmi_true[male_mask], all_bmi_pred[male_mask])\n",
    "    female_mae = mean_absolute_error(all_bmi_true[female_mask], all_bmi_pred[female_mask])\n",
    "    \n",
    "    # Gender classification accuracy\n",
    "    gender_acc = np.mean(all_gender_true == all_gender_pred) * 100\n",
    "    \n",
    "    # Print results\n",
    "    print(\"\\n=== Evaluation Results ===\")\n",
    "    print(f\"\\nOverall Performance:\")\n",
    "    print(f\"  Pearson r: {overall_r:.4f}\")\n",
    "    print(f\"  MAE: {overall_mae:.2f}\")\n",
    "    print(f\"  R²: {overall_r2:.4f}\")\n",
    "    \n",
    "    print(f\"\\nMale-specific Performance:\")\n",
    "    print(f\"  Pearson r: {male_r:.4f}\")\n",
    "    print(f\"  MAE: {male_mae:.2f}\")\n",
    "    \n",
    "    print(f\"\\nFemale-specific Performance:\")\n",
    "    print(f\"  Pearson r: {female_r:.4f}\")\n",
    "    print(f\"  MAE: {female_mae:.2f}\")\n",
    "    \n",
    "    print(f\"\\nGender Classification Accuracy: {gender_acc:.2f}%\")\n",
    "    \n",
    "    fig, axes = plt.subplots(1, 3, figsize=(15, 5))\n",
    "    \n",
    "    # Overall scatter plot\n",
    "    axes[0].scatter(all_bmi_true, all_bmi_pred, alpha=0.5)\n",
    "    axes[0].plot([15, 90], [15, 90], 'r--', lw=2)\n",
    "    axes[0].set_xlabel('True BMI')\n",
    "    axes[0].set_ylabel('Predicted BMI')\n",
    "    axes[0].set_title(f'Overall (r={overall_r:.3f})')\n",
    "    axes[0].grid(True, alpha=0.3)\n",
    "    \n",
    "    # Male scatter plot\n",
    "    axes[1].scatter(all_bmi_true[male_mask], all_bmi_pred[male_mask], \n",
    "                   alpha=0.5, color='blue')\n",
    "    axes[1].plot([15, 90], [15, 90], 'r--', lw=2)\n",
    "    axes[1].set_xlabel('True BMI')\n",
    "    axes[1].set_ylabel('Predicted BMI')\n",
    "    axes[1].set_title(f'Male (r={male_r:.3f})')\n",
    "    axes[1].grid(True, alpha=0.3)\n",
    "    \n",
    "    # Female scatter plot\n",
    "    axes[2].scatter(all_bmi_true[female_mask], all_bmi_pred[female_mask], \n",
    "                   alpha=0.5, color='pink')\n",
    "    axes[2].plot([15, 90], [15, 90], 'r--', lw=2)\n",
    "    axes[2].set_xlabel('True BMI')\n",
    "    axes[2].set_ylabel('Predicted BMI')\n",
    "    axes[2].set_title(f'Female (r={female_r:.3f})')\n",
    "    axes[2].grid(True, alpha=0.3)\n",
    "    \n",
    "    plt.tight_layout()\n",
    "    plt.show()\n",
    "    \n",
    "    return {\n",
    "        'overall_r': overall_r,\n",
    "        'male_r': male_r,\n",
    "        'female_r': female_r,\n",
    "        'overall_mae': overall_mae,\n",
    "        'male_mae': male_mae,\n",
    "        'female_mae': female_mae,\n",
    "        'gender_accuracy': gender_acc\n",
    "    }\n",
    "\n",
    "# Load best model and evaluate\n",
    "model.load_state_dict(torch.load('best_bmi_model_ResNet.pth'))\n",
    "results = evaluate_model(model, test_loader, device)"
   ]
  },
  {
   "cell_type": "code",
   "execution_count": null,
   "id": "23c6d742-398b-410f-9280-99ae6470bf5e",
   "metadata": {},
   "outputs": [
    {
     "data": {
      "image/png": "[encoded data removed]",
      "text/plain": [
       "<Figure size 1200x1000 with 4 Axes>"
      ]
     },
     "metadata": {},
     "output_type": "display_data"
    }
   ],
   "source": [
    "# Plot training history\n",
    "fig, axes = plt.subplots(2, 2, figsize=(12, 10))\n",
    "\n",
    "# Total loss\n",
    "axes[0, 0].plot(history['train_loss'], label='Train')\n",
    "axes[0, 0].plot(history['val_loss'], label='Validation')\n",
    "axes[0, 0].set_title('Total Loss')\n",
    "axes[0, 0].set_xlabel('Epoch')\n",
    "axes[0, 0].set_ylabel('Loss')\n",
    "axes[0, 0].legend()\n",
    "axes[0, 0].grid(True, alpha=0.3)\n",
    "\n",
    "# BMI loss\n",
    "axes[0, 1].plot(history['train_bmi_loss'], label='Train')\n",
    "axes[0, 1].plot(history['val_bmi_loss'], label='Validation')\n",
    "axes[0, 1].set_title('BMI Loss (MSE)')\n",
    "axes[0, 1].set_xlabel('Epoch')\n",
    "axes[0, 1].set_ylabel('Loss')\n",
    "axes[0, 1].legend()\n",
    "axes[0, 1].grid(True, alpha=0.3)\n",
    "\n",
    "# Gender accuracy\n",
    "axes[1, 0].plot(history['train_gender_acc'], label='Train')\n",
    "axes[1, 0].plot(history['val_gender_acc'], label='Validation')\n",
    "axes[1, 0].set_title('Gender Classification Accuracy')\n",
    "axes[1, 0].set_xlabel('Epoch')\n",
    "axes[1, 0].set_ylabel('Accuracy (%)')\n",
    "axes[1, 0].legend()\n",
    "axes[1, 0].grid(True, alpha=0.3)\n",
    "\n",
    "# BMI distribution comparison\n",
    "axes[1, 1].hist(df['bmi'], bins=30, alpha=0.5, label='True BMI', density=True)\n",
    "axes[1, 1].set_title('BMI Distribution')\n",
    "axes[1, 1].set_xlabel('BMI')\n",
    "axes[1, 1].set_ylabel('Density')\n",
    "axes[1, 1].legend()\n",
    "axes[1, 1].grid(True, alpha=0.3)\n",
    "\n",
    "plt.tight_layout()\n",
    "plt.show()"
   ]
  }
 ],
 "metadata": {
  "kernelspec": {
   "display_name": "Python 3 (ipykernel)",
   "language": "python",
   "name": "python3"
  },
  "language_info": {
   "codemirror_mode": {
    "name": "ipython",
    "version": 3
   },
   "file_extension": ".py",
   "mimetype": "text/x-python",
   "name": "python",
   "nbconvert_exporter": "python",
   "pygments_lexer": "ipython3",
   "version": "3.9.21"
  }
 },
 "nbformat": 4,
 "nbformat_minor": 5
}
